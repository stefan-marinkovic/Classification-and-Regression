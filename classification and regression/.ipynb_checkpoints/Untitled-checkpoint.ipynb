{
 "cells": [
  {
   "cell_type": "markdown",
   "id": "26b5dc78",
   "metadata": {},
   "source": [
    "**2.** Učitati insurance.csv skup podataka.\n",
    "    \n",
    "    2.1. Kreirati tok podataka (eng. pipeline) u kome ćete izvršiti:\n",
    "    \n",
    "- Pretvaranje kategoričkih u numeričke atribute\n",
    "- Popunjavanje nedostajućih vrednosti\n",
    "- Modelovanje (uz pomoć regresionog stabla odlučivanja)\n",
    "    \n",
    "    2.2. Korišćenjem kros validacije oceniti kvalitet regresionog modela (na osnovu RMSE) koji je\n",
    "kreiran kroz prethodno definisan tok podataka.\n",
    "\n",
    "    2.3. Korišćenjem rezultata iz 4.1 i 4.2. optimizovati regresiono stabla odlučivanja (minumum 2\n",
    "parametra i minimum 10 modela treba da bude evaluirano). Da li je optimizacija poboljšala model i\n",
    "ako jeste koliko?\n",
    "\n",
    "    2.4. Odaberite najbolji model stabla i predstavite originalni izlaz i predikcije na scatter plotu.\n",
    "Prokomentarišite rezultate."
   ]
  },
  {
   "cell_type": "markdown",
   "id": "8741545b",
   "metadata": {},
   "source": [
    "Ucitavanje"
   ]
  },
  {
   "cell_type": "code",
   "execution_count": 284,
   "id": "0527792e",
   "metadata": {},
   "outputs": [],
   "source": [
    "from pathlib import Path\n"
   ]
  },
  {
   "cell_type": "code",
   "execution_count": 285,
   "id": "82856825",
   "metadata": {},
   "outputs": [
    {
     "data": {
      "text/plain": [
       "WindowsPath('C:/Users/Stefan Marinkovic/Desktop/marina/D2 - Klasifikacija i regresija')"
      ]
     },
     "execution_count": 285,
     "metadata": {},
     "output_type": "execute_result"
    }
   ],
   "source": [
    "Path.cwd()"
   ]
  },
  {
   "cell_type": "code",
   "execution_count": 249,
   "id": "2c9ac4b5",
   "metadata": {},
   "outputs": [],
   "source": [
    "df=pd.read_csv('insurance.csv')\n"
   ]
  },
  {
   "cell_type": "code",
   "execution_count": 250,
   "id": "e00aa331",
   "metadata": {},
   "outputs": [
    {
     "data": {
      "text/html": [
       "<div>\n",
       "<style scoped>\n",
       "    .dataframe tbody tr th:only-of-type {\n",
       "        vertical-align: middle;\n",
       "    }\n",
       "\n",
       "    .dataframe tbody tr th {\n",
       "        vertical-align: top;\n",
       "    }\n",
       "\n",
       "    .dataframe thead th {\n",
       "        text-align: right;\n",
       "    }\n",
       "</style>\n",
       "<table border=\"1\" class=\"dataframe\">\n",
       "  <thead>\n",
       "    <tr style=\"text-align: right;\">\n",
       "      <th></th>\n",
       "      <th>age</th>\n",
       "      <th>sex</th>\n",
       "      <th>bmi</th>\n",
       "      <th>children</th>\n",
       "      <th>smoker</th>\n",
       "      <th>region</th>\n",
       "      <th>charges</th>\n",
       "    </tr>\n",
       "  </thead>\n",
       "  <tbody>\n",
       "    <tr>\n",
       "      <th>0</th>\n",
       "      <td>19</td>\n",
       "      <td>female</td>\n",
       "      <td>27.900</td>\n",
       "      <td>0</td>\n",
       "      <td>yes</td>\n",
       "      <td>southwest</td>\n",
       "      <td>16884.92400</td>\n",
       "    </tr>\n",
       "    <tr>\n",
       "      <th>1</th>\n",
       "      <td>18</td>\n",
       "      <td>male</td>\n",
       "      <td>33.770</td>\n",
       "      <td>1</td>\n",
       "      <td>no</td>\n",
       "      <td>southeast</td>\n",
       "      <td>1725.55230</td>\n",
       "    </tr>\n",
       "    <tr>\n",
       "      <th>2</th>\n",
       "      <td>28</td>\n",
       "      <td>male</td>\n",
       "      <td>33.000</td>\n",
       "      <td>3</td>\n",
       "      <td>no</td>\n",
       "      <td>southeast</td>\n",
       "      <td>4449.46200</td>\n",
       "    </tr>\n",
       "    <tr>\n",
       "      <th>3</th>\n",
       "      <td>33</td>\n",
       "      <td>male</td>\n",
       "      <td>22.705</td>\n",
       "      <td>0</td>\n",
       "      <td>no</td>\n",
       "      <td>northwest</td>\n",
       "      <td>21984.47061</td>\n",
       "    </tr>\n",
       "    <tr>\n",
       "      <th>4</th>\n",
       "      <td>32</td>\n",
       "      <td>male</td>\n",
       "      <td>28.880</td>\n",
       "      <td>0</td>\n",
       "      <td>no</td>\n",
       "      <td>northwest</td>\n",
       "      <td>3866.85520</td>\n",
       "    </tr>\n",
       "    <tr>\n",
       "      <th>...</th>\n",
       "      <td>...</td>\n",
       "      <td>...</td>\n",
       "      <td>...</td>\n",
       "      <td>...</td>\n",
       "      <td>...</td>\n",
       "      <td>...</td>\n",
       "      <td>...</td>\n",
       "    </tr>\n",
       "    <tr>\n",
       "      <th>1333</th>\n",
       "      <td>50</td>\n",
       "      <td>male</td>\n",
       "      <td>30.970</td>\n",
       "      <td>3</td>\n",
       "      <td>no</td>\n",
       "      <td>northwest</td>\n",
       "      <td>10600.54830</td>\n",
       "    </tr>\n",
       "    <tr>\n",
       "      <th>1334</th>\n",
       "      <td>18</td>\n",
       "      <td>female</td>\n",
       "      <td>31.920</td>\n",
       "      <td>0</td>\n",
       "      <td>no</td>\n",
       "      <td>northeast</td>\n",
       "      <td>2205.98080</td>\n",
       "    </tr>\n",
       "    <tr>\n",
       "      <th>1335</th>\n",
       "      <td>18</td>\n",
       "      <td>female</td>\n",
       "      <td>36.850</td>\n",
       "      <td>0</td>\n",
       "      <td>no</td>\n",
       "      <td>southeast</td>\n",
       "      <td>1629.83350</td>\n",
       "    </tr>\n",
       "    <tr>\n",
       "      <th>1336</th>\n",
       "      <td>21</td>\n",
       "      <td>female</td>\n",
       "      <td>25.800</td>\n",
       "      <td>0</td>\n",
       "      <td>no</td>\n",
       "      <td>southwest</td>\n",
       "      <td>2007.94500</td>\n",
       "    </tr>\n",
       "    <tr>\n",
       "      <th>1337</th>\n",
       "      <td>61</td>\n",
       "      <td>female</td>\n",
       "      <td>29.070</td>\n",
       "      <td>0</td>\n",
       "      <td>yes</td>\n",
       "      <td>northwest</td>\n",
       "      <td>29141.36030</td>\n",
       "    </tr>\n",
       "  </tbody>\n",
       "</table>\n",
       "<p>1338 rows × 7 columns</p>\n",
       "</div>"
      ],
      "text/plain": [
       "      age     sex     bmi  children smoker     region      charges\n",
       "0      19  female  27.900         0    yes  southwest  16884.92400\n",
       "1      18    male  33.770         1     no  southeast   1725.55230\n",
       "2      28    male  33.000         3     no  southeast   4449.46200\n",
       "3      33    male  22.705         0     no  northwest  21984.47061\n",
       "4      32    male  28.880         0     no  northwest   3866.85520\n",
       "...   ...     ...     ...       ...    ...        ...          ...\n",
       "1333   50    male  30.970         3     no  northwest  10600.54830\n",
       "1334   18  female  31.920         0     no  northeast   2205.98080\n",
       "1335   18  female  36.850         0     no  southeast   1629.83350\n",
       "1336   21  female  25.800         0     no  southwest   2007.94500\n",
       "1337   61  female  29.070         0    yes  northwest  29141.36030\n",
       "\n",
       "[1338 rows x 7 columns]"
      ]
     },
     "execution_count": 250,
     "metadata": {},
     "output_type": "execute_result"
    }
   ],
   "source": [
    "df"
   ]
  },
  {
   "cell_type": "markdown",
   "id": "a3c5d55e",
   "metadata": {},
   "source": [
    "Opis podataka"
   ]
  },
  {
   "cell_type": "code",
   "execution_count": 251,
   "id": "de9b33cb",
   "metadata": {},
   "outputs": [
    {
     "name": "stdout",
     "output_type": "stream",
     "text": [
      "<class 'pandas.core.frame.DataFrame'>\n",
      "RangeIndex: 1338 entries, 0 to 1337\n",
      "Data columns (total 7 columns):\n",
      " #   Column    Non-Null Count  Dtype  \n",
      "---  ------    --------------  -----  \n",
      " 0   age       1338 non-null   int64  \n",
      " 1   sex       1338 non-null   object \n",
      " 2   bmi       1338 non-null   float64\n",
      " 3   children  1338 non-null   int64  \n",
      " 4   smoker    1338 non-null   object \n",
      " 5   region    1338 non-null   object \n",
      " 6   charges   1338 non-null   float64\n",
      "dtypes: float64(2), int64(2), object(3)\n",
      "memory usage: 73.3+ KB\n"
     ]
    }
   ],
   "source": [
    "df.info()"
   ]
  },
  {
   "cell_type": "markdown",
   "id": "e840318e",
   "metadata": {},
   "source": [
    "Provera N/A vrednosti"
   ]
  },
  {
   "cell_type": "code",
   "execution_count": 252,
   "id": "a2e11b31",
   "metadata": {},
   "outputs": [
    {
     "data": {
      "text/plain": [
       "age         0\n",
       "sex         0\n",
       "bmi         0\n",
       "children    0\n",
       "smoker      0\n",
       "region      0\n",
       "charges     0\n",
       "dtype: int64"
      ]
     },
     "execution_count": 252,
     "metadata": {},
     "output_type": "execute_result"
    }
   ],
   "source": [
    "pd.isna(df).sum()"
   ]
  },
  {
   "cell_type": "code",
   "execution_count": 253,
   "id": "ea53f56d",
   "metadata": {},
   "outputs": [],
   "source": [
    "X=df.iloc[:,:-1]\n",
    "y=df.iloc[:,-1]"
   ]
  },
  {
   "cell_type": "code",
   "execution_count": 254,
   "id": "bc930493",
   "metadata": {},
   "outputs": [
    {
     "data": {
      "image/png": "[encoded data removed]",
      "text/plain": [
       "<Figure size 720x720 with 4 Axes>"
      ]
     },
     "metadata": {},
     "output_type": "display_data"
    }
   ],
   "source": [
    "X.select_dtypes(exclude='object').hist(figsize=(10,10))\n",
    "plt.show()"
   ]
  },
  {
   "cell_type": "code",
   "execution_count": 255,
   "id": "19774cd3",
   "metadata": {},
   "outputs": [
    {
     "data": {
      "text/plain": [
       "<AxesSubplot:xlabel='sex', ylabel='count'>"
      ]
     },
     "execution_count": 255,
     "metadata": {},
     "output_type": "execute_result"
    },
    {
     "data": {
      "image/png": "[encoded data removed]",
      "text/plain": [
       "<Figure size 432x288 with 1 Axes>"
      ]
     },
     "metadata": {},
     "output_type": "display_data"
    }
   ],
   "source": [
    "sns.countplot(X['sex'])"
   ]
  },
  {
   "cell_type": "code",
   "execution_count": 256,
   "id": "6c32c6e2",
   "metadata": {},
   "outputs": [
    {
     "data": {
      "image/png": "[encoded data removed]",
      "text/plain": [
       "<Figure size 432x288 with 1 Axes>"
      ]
     },
     "metadata": {},
     "output_type": "display_data"
    }
   ],
   "source": [
    "#sns.countplot(X['sex'],hue=X['smoker'])\n",
    "plt.pie(X['smoker'].value_counts(),labels=X['smoker'].value_counts().index,autopct='%.0f%%')\n",
    "plt.show()"
   ]
  },
  {
   "cell_type": "code",
   "execution_count": 257,
   "id": "6ed0838b",
   "metadata": {},
   "outputs": [
    {
     "data": {
      "text/plain": [
       "<AxesSubplot:xlabel='region', ylabel='count'>"
      ]
     },
     "execution_count": 257,
     "metadata": {},
     "output_type": "execute_result"
    },
    {
     "data": {
      "image/png": "[encoded data removed]",
      "text/plain": [
       "<Figure size 432x288 with 1 Axes>"
      ]
     },
     "metadata": {},
     "output_type": "display_data"
    }
   ],
   "source": [
    "sns.countplot(X['region'])"
   ]
  },
  {
   "cell_type": "code",
   "execution_count": 258,
   "id": "8de917f6",
   "metadata": {},
   "outputs": [
    {
     "data": {
      "text/plain": [
       "<AxesSubplot:>"
      ]
     },
     "execution_count": 258,
     "metadata": {},
     "output_type": "execute_result"
    },
    {
     "data": {
      "image/png": "[encoded data removed]",
      "text/plain": [
       "<Figure size 432x288 with 1 Axes>"
      ]
     },
     "metadata": {},
     "output_type": "display_data"
    }
   ],
   "source": [
    "y.hist()"
   ]
  },
  {
   "cell_type": "code",
   "execution_count": 259,
   "id": "574217cc",
   "metadata": {},
   "outputs": [],
   "source": [
    "X_train,X_test,y_train,y_test=train_test_split(X,y,test_size=0.3)"
   ]
  },
  {
   "cell_type": "code",
   "execution_count": 260,
   "id": "449d8224",
   "metadata": {},
   "outputs": [],
   "source": [
    "cate_col=list(X_train.select_dtypes(include='object').columns)\n",
    "num_col=list(X_train.select_dtypes(exclude='object').columns)"
   ]
  },
  {
   "cell_type": "code",
   "execution_count": 261,
   "id": "c15597d1",
   "metadata": {},
   "outputs": [],
   "source": [
    "algoritam=DecisionTreeRegressor()"
   ]
  },
  {
   "cell_type": "code",
   "execution_count": 262,
   "id": "35a50973",
   "metadata": {},
   "outputs": [],
   "source": [
    "num_preparation=SimpleImputer(strategy='median')\n",
    "cat_preparation=Pipeline(steps=[('imputer',SimpleImputer(strategy='most_frequent')),\n",
    "                         ('onehot',OneHotEncoder(handle_unknown='ignore'))]) "
   ]
  },
  {
   "cell_type": "code",
   "execution_count": 263,
   "id": "6db06ba6",
   "metadata": {},
   "outputs": [],
   "source": [
    "preprocessor=ColumnTransformer(transformers=[ ('num',num_preparation,num_col),\n",
    "             ('cat',cat_preparation,cate_col)])"
   ]
  },
  {
   "cell_type": "code",
   "execution_count": 264,
   "id": "b9fd12f3",
   "metadata": {},
   "outputs": [],
   "source": [
    "pip=Pipeline(steps=[('preprocessor',preprocessor),\n",
    "             ('dt',algoritam)])"
   ]
  },
  {
   "cell_type": "code",
   "execution_count": 265,
   "id": "b1733eff",
   "metadata": {},
   "outputs": [],
   "source": [
    "y_hat=pip.fit(X_train,y_train).predict(X_test)"
   ]
  },
  {
   "cell_type": "code",
   "execution_count": 266,
   "id": "712ae17e",
   "metadata": {},
   "outputs": [],
   "source": [
    "def rmse_score(y_true, y_predict):\n",
    "    diff = y_true-y_predict\n",
    "    diff_squared = np.power(diff,2)\n",
    "    mse = diff_squared.mean()\n",
    "    rmse = np.sqrt(mse)\n",
    "    return(rmse)\n",
    "\n",
    "rmse = make_scorer(rmse_score, greater_is_better=False)"
   ]
  },
  {
   "cell_type": "code",
   "execution_count": 267,
   "id": "565ad570",
   "metadata": {},
   "outputs": [
    {
     "data": {
      "text/plain": [
       "-6472.53008675495"
      ]
     },
     "execution_count": 267,
     "metadata": {},
     "output_type": "execute_result"
    }
   ],
   "source": [
    "cross_validate(pip,X_train,y_train,cv=10,scoring={'RMSE':rmse})['test_RMSE'].mean()"
   ]
  },
  {
   "cell_type": "code",
   "execution_count": 268,
   "id": "259ab0d0",
   "metadata": {},
   "outputs": [],
   "source": [
    "pom={}\n",
    "for depth in range(1,14,2):\n",
    "    for split in range(10,80,9):\n",
    "        pip=Pipeline(steps=[('preprocessor',preprocessor),\n",
    "             ('dt',DecisionTreeRegressor(max_depth=depth,min_samples_split=split))])\n",
    "        pom_str=f\"depth:{depth}, split:{split}\"\n",
    "        pom[pom_str]=cross_validate(pip,X_train,y_train,cv=10,scoring={'RMSE':rmse})['test_RMSE'].mean()"
   ]
  },
  {
   "cell_type": "code",
   "execution_count": 269,
   "id": "e5ac71ad",
   "metadata": {},
   "outputs": [
    {
     "data": {
      "text/plain": [
       "{'depth:3, split:55': -4664.366790604472,\n",
       " 'depth:3, split:64': -4664.366790604473,\n",
       " 'depth:3, split:10': -4664.366790604474,\n",
       " 'depth:3, split:19': -4664.366790604474,\n",
       " 'depth:3, split:28': -4664.366790604474,\n",
       " 'depth:3, split:37': -4664.366790604474,\n",
       " 'depth:3, split:46': -4664.366790604474,\n",
       " 'depth:3, split:73': -4664.366790604474,\n",
       " 'depth:5, split:46': -4701.700909452569,\n",
       " 'depth:9, split:73': -4709.098122742606,\n",
       " 'depth:11, split:73': -4709.098122742607,\n",
       " 'depth:13, split:73': -4709.098122742607,\n",
       " 'depth:7, split:73': -4709.12753908527,\n",
       " 'depth:5, split:55': -4712.314434205001,\n",
       " 'depth:7, split:64': -4718.507861296928,\n",
       " 'depth:7, split:46': -4725.315359089194,\n",
       " 'depth:9, split:64': -4726.463251107035,\n",
       " 'depth:11, split:64': -4726.463251107035,\n",
       " 'depth:13, split:64': -4726.463251107035,\n",
       " 'depth:5, split:64': -4728.810189598226,\n",
       " 'depth:5, split:37': -4728.90078274897,\n",
       " 'depth:5, split:28': -4728.926411845953,\n",
       " 'depth:5, split:73': -4730.18251286524,\n",
       " 'depth:7, split:55': -4733.142856269104,\n",
       " 'depth:5, split:19': -4740.506545941672,\n",
       " 'depth:9, split:46': -4745.555078274456,\n",
       " 'depth:11, split:46': -4745.557247166051,\n",
       " 'depth:13, split:46': -4745.557247166052,\n",
       " 'depth:5, split:10': -4749.125682519463,\n",
       " 'depth:9, split:55': -4749.225459082202,\n",
       " 'depth:11, split:55': -4749.245186167105,\n",
       " 'depth:13, split:55': -4749.245186167105,\n",
       " 'depth:7, split:37': -4781.881496633464,\n",
       " 'depth:7, split:28': -4802.947597677133,\n",
       " 'depth:9, split:37': -4830.674144453792,\n",
       " 'depth:11, split:37': -4831.853620096308,\n",
       " 'depth:13, split:37': -4831.853620096309,\n",
       " 'depth:9, split:28': -4884.124316145789,\n",
       " 'depth:13, split:28': -4890.638753792327,\n",
       " 'depth:11, split:28': -4897.672883673142,\n",
       " 'depth:7, split:19': -4938.696274127609,\n",
       " 'depth:9, split:19': -4997.845968903575,\n",
       " 'depth:11, split:19': -5013.72919452108,\n",
       " 'depth:13, split:19': -5014.585175606078,\n",
       " 'depth:7, split:10': -5229.432599954259,\n",
       " 'depth:9, split:10': -5466.4780851368505,\n",
       " 'depth:11, split:10': -5557.743135446335,\n",
       " 'depth:13, split:10': -5558.482043691218,\n",
       " 'depth:1, split:73': -7513.996982382872,\n",
       " 'depth:1, split:10': -7513.996982382874,\n",
       " 'depth:1, split:19': -7513.996982382874,\n",
       " 'depth:1, split:28': -7513.996982382874,\n",
       " 'depth:1, split:46': -7513.996982382874,\n",
       " 'depth:1, split:64': -7513.996982382874,\n",
       " 'depth:1, split:37': -7513.996982382875,\n",
       " 'depth:1, split:55': -7513.996982382875}"
      ]
     },
     "execution_count": 269,
     "metadata": {},
     "output_type": "execute_result"
    }
   ],
   "source": [
    "dict(sorted(pom.items(),key=lambda i:i[1],reverse=True))"
   ]
  },
  {
   "cell_type": "code",
   "execution_count": 270,
   "id": "80b8ae1d",
   "metadata": {},
   "outputs": [],
   "source": [
    " pip_najbolji=Pipeline(steps=[('preprocessor',preprocessor),\n",
    "             ('dt',DecisionTreeRegressor(max_depth=3,min_samples_split=55))])\n",
    "y_hat=pip.fit(X_train,y_train).predict(X_test)"
   ]
  },
  {
   "cell_type": "code",
   "execution_count": 271,
   "id": "dc533c6f",
   "metadata": {},
   "outputs": [
    {
     "data": {
      "text/plain": [
       "<AxesSubplot:xlabel='charges'>"
      ]
     },
     "execution_count": 271,
     "metadata": {},
     "output_type": "execute_result"
    },
    {
     "data": {
      "image/png": "[encoded data removed]",
      "text/plain": [
       "<Figure size 432x288 with 1 Axes>"
      ]
     },
     "metadata": {},
     "output_type": "display_data"
    }
   ],
   "source": [
    "sns.scatterplot(y_test,y_hat)"
   ]
  },
  {
   "cell_type": "markdown",
   "id": "556fe181",
   "metadata": {},
   "source": [
    "SA LOGARITMOVANJEM"
   ]
  },
  {
   "cell_type": "code",
   "execution_count": 272,
   "id": "d5c92b9d",
   "metadata": {},
   "outputs": [
    {
     "data": {
      "text/plain": [
       "<AxesSubplot:>"
      ]
     },
     "execution_count": 272,
     "metadata": {},
     "output_type": "execute_result"
    },
    {
     "data": {
      "image/png": "[encoded data removed]",
      "text/plain": [
       "<Figure size 432x288 with 1 Axes>"
      ]
     },
     "metadata": {},
     "output_type": "display_data"
    }
   ],
   "source": [
    "y_train_log = np.log(y_train)\n",
    "y_train_log.hist()"
   ]
  },
  {
   "cell_type": "code",
   "execution_count": 273,
   "id": "843b88fe",
   "metadata": {},
   "outputs": [],
   "source": [
    "def unlog_rmse (y_true, y_predict):\n",
    "    y_unlog = np.exp(y_predict) \n",
    "    rmse = rmse_score(y_true, y_unlog)\n",
    "    return (rmse)\n",
    "\n",
    "unlog_rmse2 = make_scorer(unlog_rmse, greater_is_better=False)\n"
   ]
  },
  {
   "cell_type": "code",
   "execution_count": 274,
   "id": "1834f894",
   "metadata": {},
   "outputs": [],
   "source": [
    "pom2={}\n",
    "for depth in range(1,14,2):\n",
    "    for split in range(10,80,9):\n",
    "        pip=Pipeline(steps=[('preprocessor',preprocessor),\n",
    "             ('dt',DecisionTreeRegressor(max_depth=depth,min_samples_split=split))])\n",
    "        pom_str=f\"depth:{depth}, split:{split}\"\n",
    "        pom2[pom_str]=cross_validate(pip,X_train,y_train_log,cv=10,scoring={'RMSE':rmse})['test_RMSE'].mean()"
   ]
  },
  {
   "cell_type": "code",
   "execution_count": 275,
   "id": "727838b5",
   "metadata": {},
   "outputs": [
    {
     "data": {
      "text/plain": [
       "{'depth:5, split:73': -0.3599518987468423,\n",
       " 'depth:5, split:64': -0.36297451151712756,\n",
       " 'depth:7, split:73': -0.3635511333575154,\n",
       " 'depth:9, split:73': -0.3635511333575154,\n",
       " 'depth:13, split:73': -0.3635511333575154,\n",
       " 'depth:11, split:73': -0.36355113335751543,\n",
       " 'depth:5, split:46': -0.3638250545909173,\n",
       " 'depth:5, split:55': -0.3643186166162759,\n",
       " 'depth:5, split:28': -0.3652638455115604,\n",
       " 'depth:5, split:19': -0.3652911872994133,\n",
       " 'depth:5, split:37': -0.3659751766646241,\n",
       " 'depth:5, split:10': -0.36626288286316705,\n",
       " 'depth:9, split:64': -0.3666108090141528,\n",
       " 'depth:7, split:64': -0.3666108090141529,\n",
       " 'depth:11, split:64': -0.3666108090141529,\n",
       " 'depth:13, split:64': -0.366610809014153,\n",
       " 'depth:7, split:55': -0.37041636065416134,\n",
       " 'depth:9, split:55': -0.37041636065416134,\n",
       " 'depth:11, split:55': -0.37041636065416134,\n",
       " 'depth:13, split:55': -0.37041636065416134,\n",
       " 'depth:7, split:46': -0.3764866213966559,\n",
       " 'depth:9, split:46': -0.3770589446762317,\n",
       " 'depth:11, split:46': -0.37705894467623174,\n",
       " 'depth:13, split:46': -0.3770589446762318,\n",
       " 'depth:7, split:37': -0.378635666875972,\n",
       " 'depth:7, split:28': -0.37986659980607923,\n",
       " 'depth:9, split:37': -0.38044686635251806,\n",
       " 'depth:13, split:37': -0.38044686635251806,\n",
       " 'depth:11, split:37': -0.3804468663525181,\n",
       " 'depth:9, split:28': -0.38136251731453685,\n",
       " 'depth:11, split:28': -0.38137943165507254,\n",
       " 'depth:13, split:28': -0.3813794316550726,\n",
       " 'depth:7, split:19': -0.3862918755978283,\n",
       " 'depth:3, split:10': -0.39378365690962525,\n",
       " 'depth:3, split:19': -0.39378365690962525,\n",
       " 'depth:3, split:46': -0.39378365690962525,\n",
       " 'depth:3, split:55': -0.39378365690962525,\n",
       " 'depth:3, split:73': -0.39378365690962525,\n",
       " 'depth:3, split:28': -0.3937836569096253,\n",
       " 'depth:3, split:37': -0.39378365690962536,\n",
       " 'depth:3, split:64': -0.39378365690962547,\n",
       " 'depth:11, split:19': -0.399419357532924,\n",
       " 'depth:13, split:19': -0.40108916052355,\n",
       " 'depth:9, split:19': -0.4012060981405364,\n",
       " 'depth:7, split:10': -0.4034972718489457,\n",
       " 'depth:9, split:10': -0.4247231965386719,\n",
       " 'depth:11, split:10': -0.42490562807657833,\n",
       " 'depth:13, split:10': -0.4286394035172919,\n",
       " 'depth:1, split:10': -0.6941271254282401,\n",
       " 'depth:1, split:64': -0.6941271254282401,\n",
       " 'depth:1, split:55': -0.6941271254282402,\n",
       " 'depth:1, split:19': -0.6941271254282403,\n",
       " 'depth:1, split:37': -0.6941271254282403,\n",
       " 'depth:1, split:46': -0.6941271254282403,\n",
       " 'depth:1, split:28': -0.6941271254282404,\n",
       " 'depth:1, split:73': -0.6941271254282404}"
      ]
     },
     "execution_count": 275,
     "metadata": {},
     "output_type": "execute_result"
    }
   ],
   "source": [
    "dict(sorted(pom2.items(),key=lambda i:i[1],reverse=True))"
   ]
  },
  {
   "cell_type": "code",
   "execution_count": 276,
   "id": "0994ce63",
   "metadata": {},
   "outputs": [],
   "source": [
    " pip_log=Pipeline(steps=[('preprocessor',preprocessor),\n",
    "             ('dt',DecisionTreeRegressor(max_depth=5,min_samples_split=73))])\n"
   ]
  },
  {
   "cell_type": "code",
   "execution_count": 277,
   "id": "60cc2506",
   "metadata": {},
   "outputs": [
    {
     "data": {
      "text/plain": [
       "-0.3599518987468422"
      ]
     },
     "execution_count": 277,
     "metadata": {},
     "output_type": "execute_result"
    }
   ],
   "source": [
    "cross_validate(pip_log,X_train,y_train_log,cv=10,scoring={'RMSE':rmse})['test_RMSE'].mean()"
   ]
  },
  {
   "cell_type": "code",
   "execution_count": 278,
   "id": "21e53ef8",
   "metadata": {},
   "outputs": [],
   "source": [
    "y_hat=np.exp(pip.fit(X_train,y_train_log).predict(X_test))"
   ]
  },
  {
   "cell_type": "code",
   "execution_count": 279,
   "id": "65d1f2bb",
   "metadata": {},
   "outputs": [
    {
     "data": {
      "text/plain": [
       "<AxesSubplot:xlabel='charges'>"
      ]
     },
     "execution_count": 279,
     "metadata": {},
     "output_type": "execute_result"
    },
    {
     "data": {
      "image/png": "[encoded data removed]",
      "text/plain": [
       "<Figure size 432x288 with 1 Axes>"
      ]
     },
     "metadata": {},
     "output_type": "display_data"
    }
   ],
   "source": [
    "sns.scatterplot(y_test,y_hat)"
   ]
  },
  {
   "cell_type": "code",
   "execution_count": 281,
   "id": "49995eae",
   "metadata": {},
   "outputs": [
    {
     "name": "stdout",
     "output_type": "stream",
     "text": [
      "5008.397639298608\n"
     ]
    }
   ],
   "source": [
    "print(rmse_score(y_test,y_hat))"
   ]
  },
  {
   "cell_type": "code",
   "execution_count": null,
   "id": "4c229070",
   "metadata": {},
   "outputs": [],
   "source": []
  },
  {
   "cell_type": "code",
   "execution_count": null,
   "id": "98cb1f50",
   "metadata": {},
   "outputs": [],
   "source": []
  },
  {
   "cell_type": "code",
   "execution_count": 123,
   "id": "4e2d76f7",
   "metadata": {},
   "outputs": [],
   "source": [
    "import warnings\n",
    "warnings.filterwarnings(\"ignore\")\n",
    "import pandas as pd\n",
    "import numpy as np\n",
    "from sklearn.linear_model import LogisticRegression\n",
    "from sklearn.naive_bayes import GaussianNB\n",
    "from sklearn.tree import DecisionTreeClassifier\n",
    "from sklearn.metrics import confusion_matrix\n",
    "from sklearn.metrics import accuracy_score\n",
    "from sklearn.metrics import recall_score\n",
    "from sklearn.metrics import precision_score\n",
    "from sklearn.metrics import precision_recall_curve\n",
    "from sklearn.metrics import f1_score\n",
    "from sklearn.metrics import roc_auc_score\n",
    "from sklearn.metrics import roc_curve, auc\n",
    "from sklearn.metrics import average_precision_score\n",
    "from sklearn.model_selection import train_test_split\n",
    "from sklearn.model_selection import KFold\n",
    "from sklearn.model_selection import cross_val_score\n",
    "from sklearn.model_selection import cross_validate\n",
    "import scikitplot as skplt\n",
    "from imblearn.under_sampling import RandomUnderSampler\n",
    "from imblearn.under_sampling import ClusterCentroids\n",
    "from imblearn.over_sampling import RandomOverSampler\n",
    "from imblearn.over_sampling import SMOTE\n",
    "from sklearn.multiclass import OneVsRestClassifier\n",
    "from sklearn.multiclass import OneVsOneClassifier\n",
    "from sklearn.svm import LinearSVC\n",
    "from sklearn.ensemble import RandomForestClassifier\n",
    "from sklearn.ensemble import GradientBoostingClassifier\n",
    "from sklearn.neighbors import KNeighborsClassifier\n",
    "from sklearn.preprocessing import LabelBinarizer\n",
    "import math\n",
    "%matplotlib inline\n",
    "import matplotlib.pyplot as plt\n",
    "import seaborn as sns\n",
    "sns.set()\n",
    "from sklearn.preprocessing import MinMaxScaler\n",
    "from sklearn.impute import SimpleImputer\n",
    "from sklearn.linear_model import LinearRegression\n",
    "from sklearn.metrics import mean_squared_error\n",
    "from sklearn.metrics import mean_absolute_error\n",
    "from sklearn.metrics import r2_score\n",
    "from sklearn.metrics import make_scorer\n",
    "from scipy import stats\n",
    "from sklearn.ensemble import RandomForestRegressor\n",
    "from sklearn.tree import DecisionTreeRegressor\n",
    "from sklearn.linear_model import RidgeClassifier\n",
    "from sklearn.pipeline import Pipeline\n",
    "from sklearn.base import TransformerMixin\n",
    "from sklearn.base import BaseEstimator, clone\n",
    "from sklearn.preprocessing import OneHotEncoder\n",
    "from sklearn.compose import ColumnTransformer\n"
   ]
  }
 ],
 "metadata": {
  "kernelspec": {
   "display_name": "Python 3 (ipykernel)",
   "language": "python",
   "name": "python3"
  },
  "language_info": {
   "codemirror_mode": {
    "name": "ipython",
    "version": 3
   },
   "file_extension": ".py",
   "mimetype": "text/x-python",
   "name": "python",
   "nbconvert_exporter": "python",
   "pygments_lexer": "ipython3",
   "version": "3.9.7"
  }
 },
 "nbformat": 4,
 "nbformat_minor": 5
}
